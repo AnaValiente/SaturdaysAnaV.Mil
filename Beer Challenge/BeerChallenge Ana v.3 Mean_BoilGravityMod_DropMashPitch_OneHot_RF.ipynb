{
 "cells": [
  {
   "cell_type": "code",
   "execution_count": 78,
   "metadata": {},
   "outputs": [],
   "source": [
    "import numpy as np\n",
    "import pandas as pd\n",
    "import seaborn as sns\n",
    "\n",
    "from sklearn import preprocessing\n",
    "from sklearn.metrics import accuracy_score\n",
    "from sklearn.model_selection import train_test_split\n",
    "from sklearn.model_selection import cross_val_score, GridSearchCV\n",
    "from sklearn.linear_model import LogisticRegression\n",
    "from sklearn.tree import DecisionTreeClassifier\n",
    "from sklearn.ensemble import RandomForestClassifier\n",
    "from sklearn.preprocessing import StandardScaler\n",
    "\n",
    "\n",
    "import matplotlib.pyplot as plt\n",
    "%matplotlib inline"
   ]
  },
  {
   "cell_type": "code",
   "execution_count": 79,
   "metadata": {},
   "outputs": [
    {
     "name": "stdout",
     "output_type": "stream",
     "text": [
      "(24066, 16)\n",
      "(10314, 15)\n"
     ]
    }
   ],
   "source": [
    "#Cargar train data\n",
    "beer = pd.read_csv(\"./beer_train.csv\",\n",
    "                               index_col = 0)\n",
    "print(beer.shape)\n",
    "\n",
    "# Cargar test data\n",
    "beertest = pd.read_csv(\"./beer_test.csv\",\n",
    "                               index_col = 0)\n",
    "print(beertest.shape)"
   ]
  },
  {
   "cell_type": "markdown",
   "metadata": {},
   "source": [
    "# Data explanation\n",
    "\n",
    "#### __Numeric__:\n",
    "1. __Size(L)__: Amount brewed for recipe listed\n",
    "2. __OG__ : Specific gravity of wort before fermentation\n",
    "3. __FG__ : Specific gravity of wort after fermentation\n",
    "4. __ABV__: Alcohol By Volume\n",
    "5. __IBU__: International Bittering Units\n",
    "6. __Color__: Standard Reference Method. Light to dark. Ex. 40 = black\n",
    "7. __BoilSize__: Fluid at beginning of boil\n",
    "8. __BoilTime__: Time wort is boiled\n",
    "9. __BoilGravity__: Specific gravity of wort before the boil\n",
    "10. __Efficiency__: Beer mash extraction efficiency - extracting sugars from the grain during mash\n",
    "11. __MashThickness___: Amount of water per pound of grain\n",
    "12. __PrimaryTemp__: Temperature at the fermenting stage\n",
    "13. __PitchRate__: Yeast added to the fermentor per gravity unit - M cells/ml/deg P\n",
    "\n",
    "#### __Categoric__:\n",
    "1. __SugarScale__: Scale to determine the concentration of dissolved solids in wort\n",
    "2. __BrewMethod__: Various techniques for brewing\n",
    "3. __Style__: Type of brew. VARIABLE TO PREDICT"
   ]
  },
  {
   "cell_type": "code",
   "execution_count": 80,
   "metadata": {},
   "outputs": [
    {
     "data": {
      "text/plain": [
       "Size(L)          float64\n",
       "OG               float64\n",
       "FG               float64\n",
       "ABV              float64\n",
       "IBU              float64\n",
       "Color            float64\n",
       "BoilSize         float64\n",
       "BoilTime           int64\n",
       "BoilGravity      float64\n",
       "Efficiency       float64\n",
       "MashThickness    float64\n",
       "SugarScale        object\n",
       "BrewMethod        object\n",
       "PitchRate        float64\n",
       "PrimaryTemp      float64\n",
       "Style             object\n",
       "dtype: object"
      ]
     },
     "execution_count": 80,
     "metadata": {},
     "output_type": "execute_result"
    }
   ],
   "source": [
    "beer.dtypes"
   ]
  },
  {
   "cell_type": "code",
   "execution_count": 81,
   "metadata": {},
   "outputs": [
    {
     "name": "stdout",
     "output_type": "stream",
     "text": [
      "<class 'pandas.core.frame.DataFrame'>\n",
      "Int64Index: 24066 entries, 0 to 24065\n",
      "Data columns (total 16 columns):\n",
      "Size(L)          24066 non-null float64\n",
      "OG               24066 non-null float64\n",
      "FG               24066 non-null float64\n",
      "ABV              24066 non-null float64\n",
      "IBU              24066 non-null float64\n",
      "Color            24066 non-null float64\n",
      "BoilSize         24066 non-null float64\n",
      "BoilTime         24066 non-null int64\n",
      "BoilGravity      23130 non-null float64\n",
      "Efficiency       24066 non-null float64\n",
      "MashThickness    14200 non-null float64\n",
      "SugarScale       24066 non-null object\n",
      "BrewMethod       24066 non-null object\n",
      "PitchRate        10932 non-null float64\n",
      "PrimaryTemp      16578 non-null float64\n",
      "Style            24066 non-null object\n",
      "dtypes: float64(12), int64(1), object(3)\n",
      "memory usage: 3.1+ MB\n"
     ]
    }
   ],
   "source": [
    "beer.info()"
   ]
  },
  {
   "cell_type": "code",
   "execution_count": 82,
   "metadata": {},
   "outputs": [
    {
     "data": {
      "text/plain": [
       "Size(L)           0.000000\n",
       "OG                0.000000\n",
       "FG                0.000000\n",
       "ABV               0.000000\n",
       "IBU               0.000000\n",
       "Color             0.000000\n",
       "BoilSize          0.000000\n",
       "BoilTime          0.000000\n",
       "BoilGravity       3.889304\n",
       "Efficiency        0.000000\n",
       "MashThickness    40.995595\n",
       "SugarScale        0.000000\n",
       "BrewMethod        0.000000\n",
       "PitchRate        54.574919\n",
       "PrimaryTemp      31.114435\n",
       "Style             0.000000\n",
       "dtype: float64"
      ]
     },
     "execution_count": 82,
     "metadata": {},
     "output_type": "execute_result"
    }
   ],
   "source": [
    "# Percentage of missing values on training data\n",
    "beer.isnull().sum()/len(beer)*100"
   ]
  },
  {
   "cell_type": "code",
   "execution_count": 83,
   "metadata": {
    "scrolled": true
   },
   "outputs": [
    {
     "data": {
      "text/plain": [
       "Size(L)           0.000000\n",
       "OG                0.000000\n",
       "FG                0.000000\n",
       "ABV               0.000000\n",
       "IBU               0.000000\n",
       "Color             0.000000\n",
       "BoilSize          0.000000\n",
       "BoilTime          0.000000\n",
       "BoilGravity       3.218926\n",
       "Efficiency        0.000000\n",
       "MashThickness    40.391701\n",
       "SugarScale        0.000000\n",
       "BrewMethod        0.000000\n",
       "PitchRate        54.789606\n",
       "PrimaryTemp      30.744619\n",
       "dtype: float64"
      ]
     },
     "execution_count": 83,
     "metadata": {},
     "output_type": "execute_result"
    }
   ],
   "source": [
    "# Percentage of missing values on testing data\n",
    "beertest.isnull().sum()/len(beertest)*100"
   ]
  },
  {
   "cell_type": "markdown",
   "metadata": {},
   "source": [
    " __Remove columns__"
   ]
  },
  {
   "cell_type": "code",
   "execution_count": 84,
   "metadata": {},
   "outputs": [],
   "source": [
    "beer.drop(columns=['PitchRate', 'MashThickness'],inplace=True)\n",
    "beertest.drop(columns=['PitchRate', 'MashThickness'],inplace=True)"
   ]
  },
  {
   "cell_type": "markdown",
   "metadata": {},
   "source": [
    " #  Mods to datasets"
   ]
  },
  {
   "cell_type": "markdown",
   "metadata": {},
   "source": [
    " __Replace null values in BoilGravity with mean per Style group  & drop initial BoilGravity__"
   ]
  },
  {
   "cell_type": "code",
   "execution_count": 85,
   "metadata": {},
   "outputs": [
    {
     "data": {
      "text/html": [
       "<div>\n",
       "<style scoped>\n",
       "    .dataframe tbody tr th:only-of-type {\n",
       "        vertical-align: middle;\n",
       "    }\n",
       "\n",
       "    .dataframe tbody tr th {\n",
       "        vertical-align: top;\n",
       "    }\n",
       "\n",
       "    .dataframe thead th {\n",
       "        text-align: right;\n",
       "    }\n",
       "</style>\n",
       "<table border=\"1\" class=\"dataframe\">\n",
       "  <thead>\n",
       "    <tr style=\"text-align: right;\">\n",
       "      <th></th>\n",
       "      <th>Size(L)</th>\n",
       "      <th>OG</th>\n",
       "      <th>FG</th>\n",
       "      <th>ABV</th>\n",
       "      <th>IBU</th>\n",
       "      <th>Color</th>\n",
       "      <th>BoilSize</th>\n",
       "      <th>BoilTime</th>\n",
       "      <th>Efficiency</th>\n",
       "      <th>SugarScale</th>\n",
       "      <th>BrewMethod</th>\n",
       "      <th>Style</th>\n",
       "      <th>BoilGravityMod</th>\n",
       "      <th>PrimaryTempMod</th>\n",
       "    </tr>\n",
       "    <tr>\n",
       "      <th>Id</th>\n",
       "      <th></th>\n",
       "      <th></th>\n",
       "      <th></th>\n",
       "      <th></th>\n",
       "      <th></th>\n",
       "      <th></th>\n",
       "      <th></th>\n",
       "      <th></th>\n",
       "      <th></th>\n",
       "      <th></th>\n",
       "      <th></th>\n",
       "      <th></th>\n",
       "      <th></th>\n",
       "      <th></th>\n",
       "    </tr>\n",
       "  </thead>\n",
       "  <tbody>\n",
       "    <tr>\n",
       "      <th>0</th>\n",
       "      <td>22.71</td>\n",
       "      <td>1.071</td>\n",
       "      <td>1.021</td>\n",
       "      <td>6.51</td>\n",
       "      <td>81.14</td>\n",
       "      <td>6.43</td>\n",
       "      <td>28.39</td>\n",
       "      <td>90</td>\n",
       "      <td>78.0</td>\n",
       "      <td>Specific Gravity</td>\n",
       "      <td>All Grain</td>\n",
       "      <td>American IPA</td>\n",
       "      <td>1.057</td>\n",
       "      <td>20.000000</td>\n",
       "    </tr>\n",
       "    <tr>\n",
       "      <th>1</th>\n",
       "      <td>7.57</td>\n",
       "      <td>1.062</td>\n",
       "      <td>1.016</td>\n",
       "      <td>6.14</td>\n",
       "      <td>138.44</td>\n",
       "      <td>15.28</td>\n",
       "      <td>7.57</td>\n",
       "      <td>60</td>\n",
       "      <td>35.0</td>\n",
       "      <td>Specific Gravity</td>\n",
       "      <td>extract</td>\n",
       "      <td>American IPA</td>\n",
       "      <td>1.062</td>\n",
       "      <td>20.000000</td>\n",
       "    </tr>\n",
       "    <tr>\n",
       "      <th>2</th>\n",
       "      <td>12.00</td>\n",
       "      <td>1.051</td>\n",
       "      <td>1.012</td>\n",
       "      <td>5.17</td>\n",
       "      <td>27.57</td>\n",
       "      <td>14.54</td>\n",
       "      <td>14.00</td>\n",
       "      <td>60</td>\n",
       "      <td>65.0</td>\n",
       "      <td>Specific Gravity</td>\n",
       "      <td>BIAB</td>\n",
       "      <td>Irish Red Ale</td>\n",
       "      <td>1.041</td>\n",
       "      <td>20.000000</td>\n",
       "    </tr>\n",
       "    <tr>\n",
       "      <th>3</th>\n",
       "      <td>15.00</td>\n",
       "      <td>1.051</td>\n",
       "      <td>1.013</td>\n",
       "      <td>5.01</td>\n",
       "      <td>38.53</td>\n",
       "      <td>26.73</td>\n",
       "      <td>19.00</td>\n",
       "      <td>90</td>\n",
       "      <td>65.0</td>\n",
       "      <td>Specific Gravity</td>\n",
       "      <td>All Grain</td>\n",
       "      <td>American Stout</td>\n",
       "      <td>1.040</td>\n",
       "      <td>19.538883</td>\n",
       "    </tr>\n",
       "    <tr>\n",
       "      <th>4</th>\n",
       "      <td>21.77</td>\n",
       "      <td>1.061</td>\n",
       "      <td>1.013</td>\n",
       "      <td>6.25</td>\n",
       "      <td>43.20</td>\n",
       "      <td>4.08</td>\n",
       "      <td>23.66</td>\n",
       "      <td>15</td>\n",
       "      <td>35.0</td>\n",
       "      <td>Specific Gravity</td>\n",
       "      <td>extract</td>\n",
       "      <td>American IPA</td>\n",
       "      <td>1.045</td>\n",
       "      <td>20.000000</td>\n",
       "    </tr>\n",
       "  </tbody>\n",
       "</table>\n",
       "</div>"
      ],
      "text/plain": [
       "    Size(L)     OG     FG   ABV     IBU  Color  BoilSize  BoilTime  \\\n",
       "Id                                                                   \n",
       "0     22.71  1.071  1.021  6.51   81.14   6.43     28.39        90   \n",
       "1      7.57  1.062  1.016  6.14  138.44  15.28      7.57        60   \n",
       "2     12.00  1.051  1.012  5.17   27.57  14.54     14.00        60   \n",
       "3     15.00  1.051  1.013  5.01   38.53  26.73     19.00        90   \n",
       "4     21.77  1.061  1.013  6.25   43.20   4.08     23.66        15   \n",
       "\n",
       "    Efficiency        SugarScale BrewMethod           Style  BoilGravityMod  \\\n",
       "Id                                                                            \n",
       "0         78.0  Specific Gravity  All Grain    American IPA           1.057   \n",
       "1         35.0  Specific Gravity    extract    American IPA           1.062   \n",
       "2         65.0  Specific Gravity       BIAB   Irish Red Ale           1.041   \n",
       "3         65.0  Specific Gravity  All Grain  American Stout           1.040   \n",
       "4         35.0  Specific Gravity    extract    American IPA           1.045   \n",
       "\n",
       "    PrimaryTempMod  \n",
       "Id                  \n",
       "0        20.000000  \n",
       "1        20.000000  \n",
       "2        20.000000  \n",
       "3        19.538883  \n",
       "4        20.000000  "
      ]
     },
     "execution_count": 85,
     "metadata": {},
     "output_type": "execute_result"
    }
   ],
   "source": [
    "#Replace null values in TRAIN BoillGravity with mean per Style group  & drop initial BoilGravity\n",
    "beer2 = beer.copy()\n",
    "\n",
    "beer2['BoilGravityMod'] = beer['BoilGravity']\n",
    "\n",
    "\n",
    "beer2['BoilGravityMod'] = beer2.groupby('Style')['BoilGravity'].transform(\n",
    "    lambda x: x.fillna(x.mean()))\n",
    "\n",
    "beer2.drop(columns='BoilGravity', inplace=True)\n",
    "\n",
    "\n",
    "#Replace null values in TRAIN PrimaryTemp with mean per Style group  & drop initial PrimaryTemp\n",
    "\n",
    "beer2['PrimaryTempMod'] = beer2['PrimaryTemp']\n",
    "\n",
    "\n",
    "beer2['PrimaryTempMod'] = beer2.groupby('Style')['PrimaryTemp'].transform(\n",
    "    lambda x: x.fillna(x.mean()))\n",
    "\n",
    "beer2.drop(columns='PrimaryTemp', inplace=True)\n",
    "\n",
    "beer2.head()\n"
   ]
  },
  {
   "cell_type": "code",
   "execution_count": null,
   "metadata": {},
   "outputs": [],
   "source": []
  },
  {
   "cell_type": "code",
   "execution_count": 63,
   "metadata": {},
   "outputs": [
    {
     "data": {
      "text/plain": [
       "Size(L)            0.000000\n",
       "OG                 0.000000\n",
       "FG                 0.000000\n",
       "ABV                0.000000\n",
       "IBU                0.000000\n",
       "Color              0.000000\n",
       "BoilSize           0.000000\n",
       "BoilTime           0.000000\n",
       "Efficiency         0.000000\n",
       "MashThickness     40.391701\n",
       "SugarScale         0.000000\n",
       "BrewMethod         0.000000\n",
       "PitchRate         54.789606\n",
       "PrimaryTemp       30.744619\n",
       "BoilGravityMod     0.000000\n",
       "dtype: float64"
      ]
     },
     "execution_count": 63,
     "metadata": {},
     "output_type": "execute_result"
    }
   ],
   "source": [
    "beer2.isnull().sum()/len(beer2)*100\n",
    "beertest2.isnull().sum()/len(beertest2)*100"
   ]
  },
  {
   "cell_type": "code",
   "execution_count": 64,
   "metadata": {},
   "outputs": [
    {
     "data": {
      "text/plain": [
       "0.0"
      ]
     },
     "execution_count": 64,
     "metadata": {},
     "output_type": "execute_result"
    }
   ],
   "source": [
    "beer2['BoilGravityMod'].isnull().sum()/len(beer2['BoilGravityMod'])*100\n",
    "beertest2['BoilGravityMod'].isnull().sum()/len(beertest2['BoilGravityMod'])*100"
   ]
  },
  {
   "cell_type": "code",
   "execution_count": 65,
   "metadata": {},
   "outputs": [
    {
     "data": {
      "text/plain": [
       "<matplotlib.axes._subplots.AxesSubplot at 0x1eb63fc1780>"
      ]
     },
     "execution_count": 65,
     "metadata": {},
     "output_type": "execute_result"
    },
    {
     "data": {
      "image/png": "[encoded data removed]",
      "text/plain": [
       "<Figure size 432x288 with 1 Axes>"
      ]
     },
     "metadata": {
      "needs_background": "light"
     },
     "output_type": "display_data"
    }
   ],
   "source": [
    "#mean of Boil Gravity per style\n",
    "beer.groupby(['Style']).mean()['PrimaryTemp'].plot(kind='bar')\n"
   ]
  },
  {
   "cell_type": "code",
   "execution_count": 66,
   "metadata": {},
   "outputs": [],
   "source": [
    "\n",
    "\n",
    "\n",
    "\n",
    "#Replace null values in TEST BoillGravity with mean per Style group  & drop initial BoilGravity\n",
    "\n",
    "beertest2['PrimaryTempMod'] = beertest['PrimaryTemp']\n",
    "\n",
    "\n",
    "beertest2['PrimaryTempMod'] = beer.groupby('Style')['PrimaryTemp'].transform(\n",
    "    lambda x: x.fillna(x.mean()))\n",
    "\n",
    "beertest2.drop(columns='PrimaryTemp', inplace=True)\n",
    "\n",
    "\n",
    "\n",
    "\n",
    "\n",
    "#Replace null values in TEST BoillGravity with mean per Style group  & drop initial BoilGravity\n",
    "beertest2 = beertest.copy()\n",
    "\n",
    "beertest2['BoilGravityMod'] = beertest['BoilGravity']\n",
    "\n",
    "\n",
    "beertest2['BoilGravityMod'] = beer.groupby('Style')['BoilGravity'].transform(\n",
    "    lambda x: x.fillna(x.mean()))\n",
    "\n",
    "beertest2.drop(columns='BoilGravity', inplace=True)\n",
    "\n",
    "\n",
    "beertest2.head()"
   ]
  },
  {
   "cell_type": "code",
   "execution_count": 67,
   "metadata": {},
   "outputs": [
    {
     "data": {
      "text/plain": [
       "Size(L)            0.000000\n",
       "OG                 0.000000\n",
       "FG                 0.000000\n",
       "ABV                0.000000\n",
       "IBU                0.000000\n",
       "Color              0.000000\n",
       "BoilSize           0.000000\n",
       "BoilTime           0.000000\n",
       "Efficiency         0.000000\n",
       "MashThickness     40.391701\n",
       "SugarScale         0.000000\n",
       "BrewMethod         0.000000\n",
       "PitchRate         54.789606\n",
       "BoilGravityMod     0.000000\n",
       "PrimaryTempMod     0.000000\n",
       "dtype: float64"
      ]
     },
     "execution_count": 67,
     "metadata": {},
     "output_type": "execute_result"
    }
   ],
   "source": [
    "beer2.isnull().sum()/len(beer2)*100\n",
    "beertest2.isnull().sum()/len(beertest2)*100"
   ]
  },
  {
   "cell_type": "markdown",
   "metadata": {},
   "source": [
    "__Save them as New ones__\n",
    "\n",
    "\n"
   ]
  },
  {
   "cell_type": "code",
   "execution_count": 68,
   "metadata": {},
   "outputs": [],
   "source": [
    "beer2.to_csv(\"beertrain_BoilGravityCleaned3.csv\")\n",
    "beertest2.to_csv(\"beertest_BoilGravityCleaned3.csv\")\n"
   ]
  },
  {
   "cell_type": "code",
   "execution_count": 69,
   "metadata": {},
   "outputs": [],
   "source": [
    "\n",
    "beer_train3 = beer2.copy()\n",
    "beer_test3 = beertest2.copy()"
   ]
  },
  {
   "cell_type": "markdown",
   "metadata": {},
   "source": [
    "__Drop columns with too many missing data (+40%)__"
   ]
  },
  {
   "cell_type": "code",
   "execution_count": 70,
   "metadata": {},
   "outputs": [],
   "source": [
    "beer_train3.drop(columns=['MashThickness','PitchRate'], inplace=True)\n",
    "beer_test3.drop(columns=['MashThickness','PitchRate'], inplace=True)\n"
   ]
  },
  {
   "cell_type": "markdown",
   "metadata": {},
   "source": [
    "__One Hot categorical data__"
   ]
  },
  {
   "cell_type": "code",
   "execution_count": 71,
   "metadata": {},
   "outputs": [],
   "source": [
    "beer_train4 =  pd.get_dummies(beer_train3,columns=['SugarScale', 'BrewMethod'])\n",
    "beer_test4 = pd.get_dummies(beer_test3,columns= ['SugarScale', 'BrewMethod'])\n",
    "\n",
    "\n",
    "\n"
   ]
  },
  {
   "cell_type": "code",
   "execution_count": 75,
   "metadata": {},
   "outputs": [
    {
     "data": {
      "text/html": [
       "<div>\n",
       "<style scoped>\n",
       "    .dataframe tbody tr th:only-of-type {\n",
       "        vertical-align: middle;\n",
       "    }\n",
       "\n",
       "    .dataframe tbody tr th {\n",
       "        vertical-align: top;\n",
       "    }\n",
       "\n",
       "    .dataframe thead th {\n",
       "        text-align: right;\n",
       "    }\n",
       "</style>\n",
       "<table border=\"1\" class=\"dataframe\">\n",
       "  <thead>\n",
       "    <tr style=\"text-align: right;\">\n",
       "      <th></th>\n",
       "      <th>Size(L)</th>\n",
       "      <th>OG</th>\n",
       "      <th>FG</th>\n",
       "      <th>ABV</th>\n",
       "      <th>IBU</th>\n",
       "      <th>Color</th>\n",
       "      <th>BoilSize</th>\n",
       "      <th>BoilTime</th>\n",
       "      <th>Efficiency</th>\n",
       "      <th>Style</th>\n",
       "      <th>BoilGravityMod</th>\n",
       "      <th>PrimaryTempMod</th>\n",
       "      <th>SugarScale_Plato</th>\n",
       "      <th>SugarScale_Specific Gravity</th>\n",
       "      <th>BrewMethod_All Grain</th>\n",
       "      <th>BrewMethod_BIAB</th>\n",
       "      <th>BrewMethod_Partial Mash</th>\n",
       "      <th>BrewMethod_extract</th>\n",
       "    </tr>\n",
       "    <tr>\n",
       "      <th>Id</th>\n",
       "      <th></th>\n",
       "      <th></th>\n",
       "      <th></th>\n",
       "      <th></th>\n",
       "      <th></th>\n",
       "      <th></th>\n",
       "      <th></th>\n",
       "      <th></th>\n",
       "      <th></th>\n",
       "      <th></th>\n",
       "      <th></th>\n",
       "      <th></th>\n",
       "      <th></th>\n",
       "      <th></th>\n",
       "      <th></th>\n",
       "      <th></th>\n",
       "      <th></th>\n",
       "      <th></th>\n",
       "    </tr>\n",
       "  </thead>\n",
       "  <tbody>\n",
       "    <tr>\n",
       "      <th>0</th>\n",
       "      <td>22.71</td>\n",
       "      <td>1.071</td>\n",
       "      <td>1.021</td>\n",
       "      <td>6.51</td>\n",
       "      <td>81.14</td>\n",
       "      <td>6.43</td>\n",
       "      <td>28.39</td>\n",
       "      <td>90</td>\n",
       "      <td>78.0</td>\n",
       "      <td>American IPA</td>\n",
       "      <td>1.057</td>\n",
       "      <td>20.000000</td>\n",
       "      <td>0</td>\n",
       "      <td>1</td>\n",
       "      <td>1</td>\n",
       "      <td>0</td>\n",
       "      <td>0</td>\n",
       "      <td>0</td>\n",
       "    </tr>\n",
       "    <tr>\n",
       "      <th>1</th>\n",
       "      <td>7.57</td>\n",
       "      <td>1.062</td>\n",
       "      <td>1.016</td>\n",
       "      <td>6.14</td>\n",
       "      <td>138.44</td>\n",
       "      <td>15.28</td>\n",
       "      <td>7.57</td>\n",
       "      <td>60</td>\n",
       "      <td>35.0</td>\n",
       "      <td>American IPA</td>\n",
       "      <td>1.062</td>\n",
       "      <td>20.000000</td>\n",
       "      <td>0</td>\n",
       "      <td>1</td>\n",
       "      <td>0</td>\n",
       "      <td>0</td>\n",
       "      <td>0</td>\n",
       "      <td>1</td>\n",
       "    </tr>\n",
       "    <tr>\n",
       "      <th>2</th>\n",
       "      <td>12.00</td>\n",
       "      <td>1.051</td>\n",
       "      <td>1.012</td>\n",
       "      <td>5.17</td>\n",
       "      <td>27.57</td>\n",
       "      <td>14.54</td>\n",
       "      <td>14.00</td>\n",
       "      <td>60</td>\n",
       "      <td>65.0</td>\n",
       "      <td>Irish Red Ale</td>\n",
       "      <td>1.041</td>\n",
       "      <td>20.000000</td>\n",
       "      <td>0</td>\n",
       "      <td>1</td>\n",
       "      <td>0</td>\n",
       "      <td>1</td>\n",
       "      <td>0</td>\n",
       "      <td>0</td>\n",
       "    </tr>\n",
       "    <tr>\n",
       "      <th>3</th>\n",
       "      <td>15.00</td>\n",
       "      <td>1.051</td>\n",
       "      <td>1.013</td>\n",
       "      <td>5.01</td>\n",
       "      <td>38.53</td>\n",
       "      <td>26.73</td>\n",
       "      <td>19.00</td>\n",
       "      <td>90</td>\n",
       "      <td>65.0</td>\n",
       "      <td>American Stout</td>\n",
       "      <td>1.040</td>\n",
       "      <td>19.538883</td>\n",
       "      <td>0</td>\n",
       "      <td>1</td>\n",
       "      <td>1</td>\n",
       "      <td>0</td>\n",
       "      <td>0</td>\n",
       "      <td>0</td>\n",
       "    </tr>\n",
       "    <tr>\n",
       "      <th>4</th>\n",
       "      <td>21.77</td>\n",
       "      <td>1.061</td>\n",
       "      <td>1.013</td>\n",
       "      <td>6.25</td>\n",
       "      <td>43.20</td>\n",
       "      <td>4.08</td>\n",
       "      <td>23.66</td>\n",
       "      <td>15</td>\n",
       "      <td>35.0</td>\n",
       "      <td>American IPA</td>\n",
       "      <td>1.045</td>\n",
       "      <td>20.000000</td>\n",
       "      <td>0</td>\n",
       "      <td>1</td>\n",
       "      <td>0</td>\n",
       "      <td>0</td>\n",
       "      <td>0</td>\n",
       "      <td>1</td>\n",
       "    </tr>\n",
       "  </tbody>\n",
       "</table>\n",
       "</div>"
      ],
      "text/plain": [
       "    Size(L)     OG     FG   ABV     IBU  Color  BoilSize  BoilTime  \\\n",
       "Id                                                                   \n",
       "0     22.71  1.071  1.021  6.51   81.14   6.43     28.39        90   \n",
       "1      7.57  1.062  1.016  6.14  138.44  15.28      7.57        60   \n",
       "2     12.00  1.051  1.012  5.17   27.57  14.54     14.00        60   \n",
       "3     15.00  1.051  1.013  5.01   38.53  26.73     19.00        90   \n",
       "4     21.77  1.061  1.013  6.25   43.20   4.08     23.66        15   \n",
       "\n",
       "    Efficiency           Style  BoilGravityMod  PrimaryTempMod  \\\n",
       "Id                                                               \n",
       "0         78.0    American IPA           1.057       20.000000   \n",
       "1         35.0    American IPA           1.062       20.000000   \n",
       "2         65.0   Irish Red Ale           1.041       20.000000   \n",
       "3         65.0  American Stout           1.040       19.538883   \n",
       "4         35.0    American IPA           1.045       20.000000   \n",
       "\n",
       "    SugarScale_Plato  SugarScale_Specific Gravity  BrewMethod_All Grain  \\\n",
       "Id                                                                        \n",
       "0                  0                            1                     1   \n",
       "1                  0                            1                     0   \n",
       "2                  0                            1                     0   \n",
       "3                  0                            1                     1   \n",
       "4                  0                            1                     0   \n",
       "\n",
       "    BrewMethod_BIAB  BrewMethod_Partial Mash  BrewMethod_extract  \n",
       "Id                                                                \n",
       "0                 0                        0                   0  \n",
       "1                 0                        0                   1  \n",
       "2                 1                        0                   0  \n",
       "3                 0                        0                   0  \n",
       "4                 0                        0                   1  "
      ]
     },
     "execution_count": 75,
     "metadata": {},
     "output_type": "execute_result"
    }
   ],
   "source": [
    "beer_train4.head()"
   ]
  },
  {
   "cell_type": "markdown",
   "metadata": {},
   "source": [
    " __Create target on train data__"
   ]
  },
  {
   "cell_type": "code",
   "execution_count": 22,
   "metadata": {},
   "outputs": [],
   "source": [
    "beer_target4 = beer_train4['Style']\n",
    "beer_train4.drop(columns='Style',inplace=True)\n",
    "\n"
   ]
  },
  {
   "cell_type": "code",
   "execution_count": 23,
   "metadata": {},
   "outputs": [
    {
     "data": {
      "text/html": [
       "<div>\n",
       "<style scoped>\n",
       "    .dataframe tbody tr th:only-of-type {\n",
       "        vertical-align: middle;\n",
       "    }\n",
       "\n",
       "    .dataframe tbody tr th {\n",
       "        vertical-align: top;\n",
       "    }\n",
       "\n",
       "    .dataframe thead th {\n",
       "        text-align: right;\n",
       "    }\n",
       "</style>\n",
       "<table border=\"1\" class=\"dataframe\">\n",
       "  <thead>\n",
       "    <tr style=\"text-align: right;\">\n",
       "      <th></th>\n",
       "      <th>Size(L)</th>\n",
       "      <th>OG</th>\n",
       "      <th>FG</th>\n",
       "      <th>ABV</th>\n",
       "      <th>IBU</th>\n",
       "      <th>Color</th>\n",
       "      <th>BoilSize</th>\n",
       "      <th>BoilTime</th>\n",
       "      <th>Efficiency</th>\n",
       "      <th>BoilGravityMod</th>\n",
       "      <th>PrimaryTempMod</th>\n",
       "      <th>SugarScale_Plato</th>\n",
       "      <th>SugarScale_Specific Gravity</th>\n",
       "      <th>BrewMethod_All Grain</th>\n",
       "      <th>BrewMethod_BIAB</th>\n",
       "      <th>BrewMethod_Partial Mash</th>\n",
       "      <th>BrewMethod_extract</th>\n",
       "    </tr>\n",
       "    <tr>\n",
       "      <th>Id</th>\n",
       "      <th></th>\n",
       "      <th></th>\n",
       "      <th></th>\n",
       "      <th></th>\n",
       "      <th></th>\n",
       "      <th></th>\n",
       "      <th></th>\n",
       "      <th></th>\n",
       "      <th></th>\n",
       "      <th></th>\n",
       "      <th></th>\n",
       "      <th></th>\n",
       "      <th></th>\n",
       "      <th></th>\n",
       "      <th></th>\n",
       "      <th></th>\n",
       "      <th></th>\n",
       "    </tr>\n",
       "  </thead>\n",
       "  <tbody>\n",
       "    <tr>\n",
       "      <th>0</th>\n",
       "      <td>22.71</td>\n",
       "      <td>1.071</td>\n",
       "      <td>1.021</td>\n",
       "      <td>6.51</td>\n",
       "      <td>81.14</td>\n",
       "      <td>6.43</td>\n",
       "      <td>28.39</td>\n",
       "      <td>90</td>\n",
       "      <td>78.0</td>\n",
       "      <td>1.057</td>\n",
       "      <td>20.000000</td>\n",
       "      <td>0</td>\n",
       "      <td>1</td>\n",
       "      <td>1</td>\n",
       "      <td>0</td>\n",
       "      <td>0</td>\n",
       "      <td>0</td>\n",
       "    </tr>\n",
       "    <tr>\n",
       "      <th>1</th>\n",
       "      <td>7.57</td>\n",
       "      <td>1.062</td>\n",
       "      <td>1.016</td>\n",
       "      <td>6.14</td>\n",
       "      <td>138.44</td>\n",
       "      <td>15.28</td>\n",
       "      <td>7.57</td>\n",
       "      <td>60</td>\n",
       "      <td>35.0</td>\n",
       "      <td>1.062</td>\n",
       "      <td>20.000000</td>\n",
       "      <td>0</td>\n",
       "      <td>1</td>\n",
       "      <td>0</td>\n",
       "      <td>0</td>\n",
       "      <td>0</td>\n",
       "      <td>1</td>\n",
       "    </tr>\n",
       "    <tr>\n",
       "      <th>2</th>\n",
       "      <td>12.00</td>\n",
       "      <td>1.051</td>\n",
       "      <td>1.012</td>\n",
       "      <td>5.17</td>\n",
       "      <td>27.57</td>\n",
       "      <td>14.54</td>\n",
       "      <td>14.00</td>\n",
       "      <td>60</td>\n",
       "      <td>65.0</td>\n",
       "      <td>1.041</td>\n",
       "      <td>20.000000</td>\n",
       "      <td>0</td>\n",
       "      <td>1</td>\n",
       "      <td>0</td>\n",
       "      <td>1</td>\n",
       "      <td>0</td>\n",
       "      <td>0</td>\n",
       "    </tr>\n",
       "    <tr>\n",
       "      <th>3</th>\n",
       "      <td>15.00</td>\n",
       "      <td>1.051</td>\n",
       "      <td>1.013</td>\n",
       "      <td>5.01</td>\n",
       "      <td>38.53</td>\n",
       "      <td>26.73</td>\n",
       "      <td>19.00</td>\n",
       "      <td>90</td>\n",
       "      <td>65.0</td>\n",
       "      <td>1.040</td>\n",
       "      <td>19.538883</td>\n",
       "      <td>0</td>\n",
       "      <td>1</td>\n",
       "      <td>1</td>\n",
       "      <td>0</td>\n",
       "      <td>0</td>\n",
       "      <td>0</td>\n",
       "    </tr>\n",
       "    <tr>\n",
       "      <th>4</th>\n",
       "      <td>21.77</td>\n",
       "      <td>1.061</td>\n",
       "      <td>1.013</td>\n",
       "      <td>6.25</td>\n",
       "      <td>43.20</td>\n",
       "      <td>4.08</td>\n",
       "      <td>23.66</td>\n",
       "      <td>15</td>\n",
       "      <td>35.0</td>\n",
       "      <td>1.045</td>\n",
       "      <td>20.000000</td>\n",
       "      <td>0</td>\n",
       "      <td>1</td>\n",
       "      <td>0</td>\n",
       "      <td>0</td>\n",
       "      <td>0</td>\n",
       "      <td>1</td>\n",
       "    </tr>\n",
       "  </tbody>\n",
       "</table>\n",
       "</div>"
      ],
      "text/plain": [
       "    Size(L)     OG     FG   ABV     IBU  Color  BoilSize  BoilTime  \\\n",
       "Id                                                                   \n",
       "0     22.71  1.071  1.021  6.51   81.14   6.43     28.39        90   \n",
       "1      7.57  1.062  1.016  6.14  138.44  15.28      7.57        60   \n",
       "2     12.00  1.051  1.012  5.17   27.57  14.54     14.00        60   \n",
       "3     15.00  1.051  1.013  5.01   38.53  26.73     19.00        90   \n",
       "4     21.77  1.061  1.013  6.25   43.20   4.08     23.66        15   \n",
       "\n",
       "    Efficiency  BoilGravityMod  PrimaryTempMod  SugarScale_Plato  \\\n",
       "Id                                                                 \n",
       "0         78.0           1.057       20.000000                 0   \n",
       "1         35.0           1.062       20.000000                 0   \n",
       "2         65.0           1.041       20.000000                 0   \n",
       "3         65.0           1.040       19.538883                 0   \n",
       "4         35.0           1.045       20.000000                 0   \n",
       "\n",
       "    SugarScale_Specific Gravity  BrewMethod_All Grain  BrewMethod_BIAB  \\\n",
       "Id                                                                       \n",
       "0                             1                     1                0   \n",
       "1                             1                     0                0   \n",
       "2                             1                     0                1   \n",
       "3                             1                     1                0   \n",
       "4                             1                     0                0   \n",
       "\n",
       "    BrewMethod_Partial Mash  BrewMethod_extract  \n",
       "Id                                               \n",
       "0                         0                   0  \n",
       "1                         0                   1  \n",
       "2                         0                   0  \n",
       "3                         0                   0  \n",
       "4                         0                   1  "
      ]
     },
     "execution_count": 23,
     "metadata": {},
     "output_type": "execute_result"
    }
   ],
   "source": [
    "beer_train4.head()"
   ]
  },
  {
   "cell_type": "markdown",
   "metadata": {},
   "source": [
    " __Normalization__"
   ]
  },
  {
   "cell_type": "code",
   "execution_count": 34,
   "metadata": {},
   "outputs": [],
   "source": [
    "scaler = StandardScaler(with_mean=0, with_std=1)\n",
    "scaler.fit(beer_train4)\n",
    "X_train_4 = scaler.transform(beer_train4)\n",
    "X_test_4 = scaler.transform(beer_test4)\n",
    "\n",
    "\n"
   ]
  },
  {
   "cell_type": "markdown",
   "metadata": {},
   "source": [
    " __Random Forest__"
   ]
  },
  {
   "cell_type": "code",
   "execution_count": 37,
   "metadata": {},
   "outputs": [],
   "source": [
    "rfc = RandomForestClassifier(n_estimators=1000, random_state=101, n_jobs=-1)\n",
    "rfc.fit(X_train_4, beer_target4)\n",
    "y_pred_rfc_v4 = rfc.predict(X_test_4)\n",
    "\n"
   ]
  },
  {
   "cell_type": "code",
   "execution_count": 38,
   "metadata": {},
   "outputs": [],
   "source": [
    "y_pred_rfc_v4 = pd.DataFrame(data = y_pred_rfc_v4, \n",
    "                      index = beer_test4.index,\n",
    "                      columns = ['Style'])\n",
    "\n",
    "y_pred_rfc_v4.to_csv(\"Submission_RandomForest_v4.csv\")\n",
    "\n"
   ]
  },
  {
   "cell_type": "code",
   "execution_count": null,
   "metadata": {},
   "outputs": [],
   "source": []
  },
  {
   "cell_type": "code",
   "execution_count": null,
   "metadata": {},
   "outputs": [],
   "source": []
  }
 ],
 "metadata": {
  "kernelspec": {
   "display_name": "Python 3",
   "language": "python",
   "name": "python3"
  },
  "language_info": {
   "codemirror_mode": {
    "name": "ipython",
    "version": 3
   },
   "file_extension": ".py",
   "mimetype": "text/x-python",
   "name": "python",
   "nbconvert_exporter": "python",
   "pygments_lexer": "ipython3",
   "version": "3.6.9"
  }
 },
 "nbformat": 4,
 "nbformat_minor": 2
}
