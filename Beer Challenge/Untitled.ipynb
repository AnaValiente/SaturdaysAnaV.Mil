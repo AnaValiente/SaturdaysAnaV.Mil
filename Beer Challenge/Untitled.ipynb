{
 "cells": [
  {
   "cell_type": "code",
   "execution_count": null,
   "metadata": {},
   "outputs": [],
   "source": [
    "X_train_b3_num = X_train_b3.select_dtypes(\n",
    "                         include = np.number).copy()\n",
    "X_train_b3_num.head()\n",
    "\n",
    "\n",
    "\n",
    "X_train_b3= beer_train3[['Size(L)','OG','FG','ABV','IBU','Color','BoilSize','BoilTime','Efficiency','SugarScale','BrewMethod','BoilGravityMod']]\n",
    "y_train_b3= beer_train3[['Style']]\n",
    "y_train_b3.head()\n",
    "\n",
    "\n",
    "X_test_og=beertest.iloc[:,:-1].copy()\n",
    "X_test_og.head()\n",
    "\n",
    "\n",
    "\n",
    "\n",
    "y_pred.to_csv('./decision_tree_pred.csv', \n",
    "              header = ['Style'],\n",
    "              index = True,\n",
    "              index_label = 'id')\n",
    "\n"
   ]
  }
 ],
 "metadata": {
  "kernelspec": {
   "display_name": "Python 3",
   "language": "python",
   "name": "python3"
  },
  "language_info": {
   "codemirror_mode": {
    "name": "ipython",
    "version": 3
   },
   "file_extension": ".py",
   "mimetype": "text/x-python",
   "name": "python",
   "nbconvert_exporter": "python",
   "pygments_lexer": "ipython3",
   "version": "3.6.9"
  }
 },
 "nbformat": 4,
 "nbformat_minor": 2
}
