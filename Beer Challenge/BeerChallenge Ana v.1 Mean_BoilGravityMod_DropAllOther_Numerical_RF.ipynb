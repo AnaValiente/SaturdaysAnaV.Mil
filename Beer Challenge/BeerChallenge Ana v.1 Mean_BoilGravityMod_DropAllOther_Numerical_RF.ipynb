{
 "cells": [
  {
   "cell_type": "code",
   "execution_count": 161,
   "metadata": {},
   "outputs": [],
   "source": [
    "import numpy as np\n",
    "import pandas as pd\n",
    "import seaborn as sns\n",
    "\n",
    "from sklearn import preprocessing\n",
    "from sklearn.metrics import accuracy_score\n",
    "from sklearn.model_selection import train_test_split\n",
    "from sklearn.model_selection import cross_val_score, GridSearchCV\n",
    "from sklearn.linear_model import LogisticRegression\n",
    "from sklearn.tree import DecisionTreeClassifier\n",
    "from sklearn.ensemble import RandomForestClassifier\n",
    "from sklearn.preprocessing import StandardScaler\n",
    "\n",
    "\n",
    "import matplotlib.pyplot as plt\n",
    "%matplotlib inline"
   ]
  },
  {
   "cell_type": "code",
   "execution_count": 162,
   "metadata": {},
   "outputs": [
    {
     "name": "stdout",
     "output_type": "stream",
     "text": [
      "(24066, 16)\n",
      "(10314, 15)\n"
     ]
    }
   ],
   "source": [
    "#Cargar train data\n",
    "beer = pd.read_csv(\"./beer_train.csv\",\n",
    "                               index_col = 0)\n",
    "print(beer.shape)\n",
    "\n",
    "# Cargar test data\n",
    "beertest = pd.read_csv(\"./beer_test.csv\",\n",
    "                               index_col = 0)\n",
    "print(beertest.shape)"
   ]
  },
  {
   "cell_type": "markdown",
   "metadata": {},
   "source": [
    "# Data explanation\n",
    "\n",
    "#### __Numeric__:\n",
    "1. __Size(L)__: Amount brewed for recipe listed\n",
    "2. __OG__ : Specific gravity of wort before fermentation\n",
    "3. __FG__ : Specific gravity of wort after fermentation\n",
    "4. __ABV__: Alcohol By Volume\n",
    "5. __IBU__: International Bittering Units\n",
    "6. __Color__: Standard Reference Method. Light to dark. Ex. 40 = black\n",
    "7. __BoilSize__: Fluid at beginning of boil\n",
    "8. __BoilTime__: Time wort is boiled\n",
    "9. __BoilGravity__: Specific gravity of wort before the boil\n",
    "10. __Efficiency__: Beer mash extraction efficiency - extracting sugars from the grain during mash\n",
    "11. __MashThickness___: Amount of water per pound of grain\n",
    "12. __PrimaryTemp__: Temperature at the fermenting stage\n",
    "13. __PitchRate__: Yeast added to the fermentor per gravity unit - M cells/ml/deg P\n",
    "\n",
    "#### __Categoric__:\n",
    "1. __SugarScale__: Scale to determine the concentration of dissolved solids in wort\n",
    "2. __BrewMethod__: Various techniques for brewing\n",
    "3. __Style__: Type of brew. VARIABLE TO PREDICT"
   ]
  },
  {
   "cell_type": "code",
   "execution_count": 115,
   "metadata": {},
   "outputs": [
    {
     "data": {
      "text/plain": [
       "Size(L)          float64\n",
       "OG               float64\n",
       "FG               float64\n",
       "ABV              float64\n",
       "IBU              float64\n",
       "Color            float64\n",
       "BoilSize         float64\n",
       "BoilTime           int64\n",
       "BoilGravity      float64\n",
       "Efficiency       float64\n",
       "MashThickness    float64\n",
       "SugarScale        object\n",
       "BrewMethod        object\n",
       "PitchRate        float64\n",
       "PrimaryTemp      float64\n",
       "Style             object\n",
       "dtype: object"
      ]
     },
     "execution_count": 115,
     "metadata": {},
     "output_type": "execute_result"
    }
   ],
   "source": [
    "beer.dtypes"
   ]
  },
  {
   "cell_type": "code",
   "execution_count": 116,
   "metadata": {},
   "outputs": [
    {
     "name": "stdout",
     "output_type": "stream",
     "text": [
      "<class 'pandas.core.frame.DataFrame'>\n",
      "Int64Index: 24066 entries, 0 to 24065\n",
      "Data columns (total 16 columns):\n",
      "Size(L)          24066 non-null float64\n",
      "OG               24066 non-null float64\n",
      "FG               24066 non-null float64\n",
      "ABV              24066 non-null float64\n",
      "IBU              24066 non-null float64\n",
      "Color            24066 non-null float64\n",
      "BoilSize         24066 non-null float64\n",
      "BoilTime         24066 non-null int64\n",
      "BoilGravity      23130 non-null float64\n",
      "Efficiency       24066 non-null float64\n",
      "MashThickness    14200 non-null float64\n",
      "SugarScale       24066 non-null object\n",
      "BrewMethod       24066 non-null object\n",
      "PitchRate        10932 non-null float64\n",
      "PrimaryTemp      16578 non-null float64\n",
      "Style            24066 non-null object\n",
      "dtypes: float64(12), int64(1), object(3)\n",
      "memory usage: 3.1+ MB\n"
     ]
    }
   ],
   "source": [
    "beer.info()"
   ]
  },
  {
   "cell_type": "code",
   "execution_count": 117,
   "metadata": {},
   "outputs": [
    {
     "data": {
      "text/plain": [
       "Size(L)           0.000000\n",
       "OG                0.000000\n",
       "FG                0.000000\n",
       "ABV               0.000000\n",
       "IBU               0.000000\n",
       "Color             0.000000\n",
       "BoilSize          0.000000\n",
       "BoilTime          0.000000\n",
       "BoilGravity       3.889304\n",
       "Efficiency        0.000000\n",
       "MashThickness    40.995595\n",
       "SugarScale        0.000000\n",
       "BrewMethod        0.000000\n",
       "PitchRate        54.574919\n",
       "PrimaryTemp      31.114435\n",
       "Style             0.000000\n",
       "dtype: float64"
      ]
     },
     "execution_count": 117,
     "metadata": {},
     "output_type": "execute_result"
    }
   ],
   "source": [
    "# Percentage of missing values on training data\n",
    "beer.isnull().sum()/len(beer)*100"
   ]
  },
  {
   "cell_type": "code",
   "execution_count": 118,
   "metadata": {
    "scrolled": true
   },
   "outputs": [
    {
     "data": {
      "text/plain": [
       "Size(L)           0.000000\n",
       "OG                0.000000\n",
       "FG                0.000000\n",
       "ABV               0.000000\n",
       "IBU               0.000000\n",
       "Color             0.000000\n",
       "BoilSize          0.000000\n",
       "BoilTime          0.000000\n",
       "BoilGravity       3.218926\n",
       "Efficiency        0.000000\n",
       "MashThickness    40.391701\n",
       "SugarScale        0.000000\n",
       "BrewMethod        0.000000\n",
       "PitchRate        54.789606\n",
       "PrimaryTemp      30.744619\n",
       "dtype: float64"
      ]
     },
     "execution_count": 118,
     "metadata": {},
     "output_type": "execute_result"
    }
   ],
   "source": [
    "# Percentage of missing values on testing data\n",
    "beertest.isnull().sum()/len(beertest)*100"
   ]
  },
  {
   "cell_type": "code",
   "execution_count": 119,
   "metadata": {},
   "outputs": [
    {
     "name": "stdout",
     "output_type": "stream",
     "text": [
      "Style\n",
      "American Amber Ale      1.046\n",
      "American Brown Ale      1.046\n",
      "American IPA            1.051\n",
      "American Light Lager    1.046\n",
      "American Pale Ale       1.043\n",
      "American Stout          1.051\n",
      "Blonde Ale              1.040\n",
      "Imperial IPA            1.062\n",
      "Irish Red Ale           1.043\n",
      "Saison                  1.045\n",
      "Witbier                 1.041\n",
      "Name: BoilGravity, dtype: float64\n"
     ]
    },
    {
     "data": {
      "image/png": "[encoded data removed]",
      "text/plain": [
       "<Figure size 432x288 with 1 Axes>"
      ]
     },
     "metadata": {
      "needs_background": "light"
     },
     "output_type": "display_data"
    }
   ],
   "source": [
    "#median of Boil Gravity per style\n",
    "beer.groupby(['Style']).median()['BoilGravity'].plot(kind='bar')\n",
    "print(beer.groupby(['Style']).median()['BoilGravity'])"
   ]
  },
  {
   "cell_type": "code",
   "execution_count": 120,
   "metadata": {},
   "outputs": [
    {
     "name": "stdout",
     "output_type": "stream",
     "text": [
      "Style\n",
      "American Amber Ale      1.266163\n",
      "American Brown Ale      1.228850\n",
      "American IPA            1.340893\n",
      "American Light Lager    1.401011\n",
      "American Pale Ale       1.328633\n",
      "American Stout          1.334548\n",
      "Blonde Ale              1.245547\n",
      "Imperial IPA            1.489458\n",
      "Irish Red Ale           1.254786\n",
      "Saison                  1.242850\n",
      "Witbier                 1.235359\n",
      "Name: BoilGravity, dtype: float64\n"
     ]
    },
    {
     "data": {
      "image/png": "[encoded data removed]",
      "text/plain": [
       "<Figure size 432x288 with 1 Axes>"
      ]
     },
     "metadata": {
      "needs_background": "light"
     },
     "output_type": "display_data"
    }
   ],
   "source": [
    "#mean of Boil Gravity per style\n",
    "beer.groupby(['Style']).mean()['BoilGravity'].plot(kind='bar')\n",
    "print(beer.groupby(['Style']).mean()['BoilGravity'])"
   ]
  },
  {
   "cell_type": "markdown",
   "metadata": {},
   "source": [
    " #  Mods to datasets"
   ]
  },
  {
   "cell_type": "markdown",
   "metadata": {},
   "source": [
    " __Replace null values in BoilGravity with mean per Style group  & drop initial BoilGravity__"
   ]
  },
  {
   "cell_type": "code",
   "execution_count": 121,
   "metadata": {},
   "outputs": [],
   "source": [
    "#Replace null values in TRAIN BoillGravity with mean per Style group  & drop initial BoilGravity\n",
    "beer2 = beer.copy()\n",
    "\n",
    "beer2['BoilGravityMod'] = beer['BoilGravity']\n",
    "\n",
    "\n",
    "beer2['BoilGravityMod'] = beer2.groupby('Style')['BoilGravity'].transform(\n",
    "    lambda x: x.fillna(x.mean()))\n",
    "\n",
    "beer2.drop(columns='BoilGravity', inplace=True)\n",
    "\n",
    "\n",
    "\n",
    "\n",
    "#Replace null values in TEST BoillGravity with mean per Style group  & drop initial BoilGravity\n",
    "beertest2 = beertest.copy()\n",
    "\n",
    "beertest2['BoilGravityMod'] = beertest['BoilGravity']\n",
    "\n",
    "\n",
    "beertest2['BoilGravityMod'] = beer.groupby('Style')['BoilGravity'].transform(\n",
    "    lambda x: x.fillna(x.mean()))\n",
    "\n",
    "beertest2.drop(columns='BoilGravity', inplace=True)\n",
    "\n",
    "\n"
   ]
  },
  {
   "cell_type": "code",
   "execution_count": 122,
   "metadata": {},
   "outputs": [
    {
     "data": {
      "text/plain": [
       "0.0"
      ]
     },
     "execution_count": 122,
     "metadata": {},
     "output_type": "execute_result"
    }
   ],
   "source": [
    "beer2['BoilGravityMod'].isnull().sum()/len(beer2['BoilGravityMod'])*100\n",
    "beertest2['BoilGravityMod'].isnull().sum()/len(beertest2['BoilGravityMod'])*100"
   ]
  },
  {
   "cell_type": "code",
   "execution_count": 123,
   "metadata": {},
   "outputs": [
    {
     "data": {
      "text/plain": [
       "Size(L)            0.000000\n",
       "OG                 0.000000\n",
       "FG                 0.000000\n",
       "ABV                0.000000\n",
       "IBU                0.000000\n",
       "Color              0.000000\n",
       "BoilSize           0.000000\n",
       "BoilTime           0.000000\n",
       "Efficiency         0.000000\n",
       "MashThickness     17.310729\n",
       "SugarScale         0.000000\n",
       "BrewMethod         0.000000\n",
       "PitchRate         23.481260\n",
       "PrimaryTemp       13.176265\n",
       "BoilGravityMod     0.000000\n",
       "dtype: float64"
      ]
     },
     "execution_count": 123,
     "metadata": {},
     "output_type": "execute_result"
    }
   ],
   "source": [
    "beer2.isnull().sum()/len(beer2)*100\n",
    "beertest2.isnull().sum()/len(beer2)*100\n"
   ]
  },
  {
   "cell_type": "markdown",
   "metadata": {},
   "source": [
    "__Save them as New ones__\n",
    "\n",
    "\n"
   ]
  },
  {
   "cell_type": "code",
   "execution_count": 124,
   "metadata": {},
   "outputs": [],
   "source": [
    "beer2.to_csv(\"beertrain_BoilGravityCleaned.csv\")\n",
    "beertest2.to_csv(\"beertest_BoilGravityCleaned.csv\")\n"
   ]
  },
  {
   "cell_type": "code",
   "execution_count": 125,
   "metadata": {},
   "outputs": [],
   "source": [
    "\n",
    "beer_train3 = pd.read_csv(\"./beertrain_BoilGravityCleaned.csv\",index_col = 0)\n",
    "beer_test3 = pd.read_csv(\"./beertest_BoilGravityCleaned.csv\",index_col = 0)"
   ]
  },
  {
   "cell_type": "markdown",
   "metadata": {},
   "source": [
    "__Drop columns with too many missing data (+30%)__"
   ]
  },
  {
   "cell_type": "code",
   "execution_count": 126,
   "metadata": {},
   "outputs": [],
   "source": [
    "beer_train3.drop(columns=['MashThickness','PitchRate','PrimaryTemp'], inplace=True)\n",
    "beer_test3.drop(columns=['MashThickness','PitchRate','PrimaryTemp'], inplace=True)\n"
   ]
  },
  {
   "cell_type": "markdown",
   "metadata": {},
   "source": [
    "__Drop non categorical data__"
   ]
  },
  {
   "cell_type": "code",
   "execution_count": 138,
   "metadata": {},
   "outputs": [
    {
     "data": {
      "text/html": [
       "<div>\n",
       "<style scoped>\n",
       "    .dataframe tbody tr th:only-of-type {\n",
       "        vertical-align: middle;\n",
       "    }\n",
       "\n",
       "    .dataframe tbody tr th {\n",
       "        vertical-align: top;\n",
       "    }\n",
       "\n",
       "    .dataframe thead th {\n",
       "        text-align: right;\n",
       "    }\n",
       "</style>\n",
       "<table border=\"1\" class=\"dataframe\">\n",
       "  <thead>\n",
       "    <tr style=\"text-align: right;\">\n",
       "      <th></th>\n",
       "      <th>Size(L)</th>\n",
       "      <th>OG</th>\n",
       "      <th>FG</th>\n",
       "      <th>ABV</th>\n",
       "      <th>IBU</th>\n",
       "      <th>Color</th>\n",
       "      <th>BoilSize</th>\n",
       "      <th>BoilTime</th>\n",
       "      <th>Efficiency</th>\n",
       "      <th>SugarScale</th>\n",
       "      <th>BrewMethod</th>\n",
       "      <th>Style</th>\n",
       "      <th>BoilGravityMod</th>\n",
       "    </tr>\n",
       "    <tr>\n",
       "      <th>Id</th>\n",
       "      <th></th>\n",
       "      <th></th>\n",
       "      <th></th>\n",
       "      <th></th>\n",
       "      <th></th>\n",
       "      <th></th>\n",
       "      <th></th>\n",
       "      <th></th>\n",
       "      <th></th>\n",
       "      <th></th>\n",
       "      <th></th>\n",
       "      <th></th>\n",
       "      <th></th>\n",
       "    </tr>\n",
       "  </thead>\n",
       "  <tbody>\n",
       "    <tr>\n",
       "      <th>0</th>\n",
       "      <td>22.71</td>\n",
       "      <td>1.071</td>\n",
       "      <td>1.021</td>\n",
       "      <td>6.51</td>\n",
       "      <td>81.14</td>\n",
       "      <td>6.43</td>\n",
       "      <td>28.39</td>\n",
       "      <td>90</td>\n",
       "      <td>78.0</td>\n",
       "      <td>Specific Gravity</td>\n",
       "      <td>All Grain</td>\n",
       "      <td>American IPA</td>\n",
       "      <td>1.057</td>\n",
       "    </tr>\n",
       "    <tr>\n",
       "      <th>1</th>\n",
       "      <td>7.57</td>\n",
       "      <td>1.062</td>\n",
       "      <td>1.016</td>\n",
       "      <td>6.14</td>\n",
       "      <td>138.44</td>\n",
       "      <td>15.28</td>\n",
       "      <td>7.57</td>\n",
       "      <td>60</td>\n",
       "      <td>35.0</td>\n",
       "      <td>Specific Gravity</td>\n",
       "      <td>extract</td>\n",
       "      <td>American IPA</td>\n",
       "      <td>1.062</td>\n",
       "    </tr>\n",
       "    <tr>\n",
       "      <th>2</th>\n",
       "      <td>12.00</td>\n",
       "      <td>1.051</td>\n",
       "      <td>1.012</td>\n",
       "      <td>5.17</td>\n",
       "      <td>27.57</td>\n",
       "      <td>14.54</td>\n",
       "      <td>14.00</td>\n",
       "      <td>60</td>\n",
       "      <td>65.0</td>\n",
       "      <td>Specific Gravity</td>\n",
       "      <td>BIAB</td>\n",
       "      <td>Irish Red Ale</td>\n",
       "      <td>1.041</td>\n",
       "    </tr>\n",
       "    <tr>\n",
       "      <th>3</th>\n",
       "      <td>15.00</td>\n",
       "      <td>1.051</td>\n",
       "      <td>1.013</td>\n",
       "      <td>5.01</td>\n",
       "      <td>38.53</td>\n",
       "      <td>26.73</td>\n",
       "      <td>19.00</td>\n",
       "      <td>90</td>\n",
       "      <td>65.0</td>\n",
       "      <td>Specific Gravity</td>\n",
       "      <td>All Grain</td>\n",
       "      <td>American Stout</td>\n",
       "      <td>1.040</td>\n",
       "    </tr>\n",
       "    <tr>\n",
       "      <th>4</th>\n",
       "      <td>21.77</td>\n",
       "      <td>1.061</td>\n",
       "      <td>1.013</td>\n",
       "      <td>6.25</td>\n",
       "      <td>43.20</td>\n",
       "      <td>4.08</td>\n",
       "      <td>23.66</td>\n",
       "      <td>15</td>\n",
       "      <td>35.0</td>\n",
       "      <td>Specific Gravity</td>\n",
       "      <td>extract</td>\n",
       "      <td>American IPA</td>\n",
       "      <td>1.045</td>\n",
       "    </tr>\n",
       "  </tbody>\n",
       "</table>\n",
       "</div>"
      ],
      "text/plain": [
       "    Size(L)     OG     FG   ABV     IBU  Color  BoilSize  BoilTime  \\\n",
       "Id                                                                   \n",
       "0     22.71  1.071  1.021  6.51   81.14   6.43     28.39        90   \n",
       "1      7.57  1.062  1.016  6.14  138.44  15.28      7.57        60   \n",
       "2     12.00  1.051  1.012  5.17   27.57  14.54     14.00        60   \n",
       "3     15.00  1.051  1.013  5.01   38.53  26.73     19.00        90   \n",
       "4     21.77  1.061  1.013  6.25   43.20   4.08     23.66        15   \n",
       "\n",
       "    Efficiency        SugarScale BrewMethod           Style  BoilGravityMod  \n",
       "Id                                                                           \n",
       "0         78.0  Specific Gravity  All Grain    American IPA           1.057  \n",
       "1         35.0  Specific Gravity    extract    American IPA           1.062  \n",
       "2         65.0  Specific Gravity       BIAB   Irish Red Ale           1.041  \n",
       "3         65.0  Specific Gravity  All Grain  American Stout           1.040  \n",
       "4         35.0  Specific Gravity    extract    American IPA           1.045  "
      ]
     },
     "execution_count": 138,
     "metadata": {},
     "output_type": "execute_result"
    }
   ],
   "source": [
    "beer_train4 = beer_train3.copy()\n",
    "beer_test4 =beer_test3.copy()\n",
    "\n",
    "\n",
    "beer_train4.head()"
   ]
  },
  {
   "cell_type": "code",
   "execution_count": 139,
   "metadata": {},
   "outputs": [],
   "source": [
    "beer_train4.drop(columns=['SugarScale','BrewMethod'], inplace=True)\n",
    "beer_test4.drop(columns=['SugarScale','BrewMethod'], inplace=True)\n"
   ]
  },
  {
   "cell_type": "markdown",
   "metadata": {},
   "source": [
    " __Create target on train data__"
   ]
  },
  {
   "cell_type": "code",
   "execution_count": 140,
   "metadata": {},
   "outputs": [],
   "source": [
    "beer_target4 = beer_train4['Style']\n",
    "beer_train4.drop(columns='Style',inplace=True)\n",
    "\n"
   ]
  },
  {
   "cell_type": "code",
   "execution_count": 141,
   "metadata": {},
   "outputs": [
    {
     "data": {
      "text/html": [
       "<div>\n",
       "<style scoped>\n",
       "    .dataframe tbody tr th:only-of-type {\n",
       "        vertical-align: middle;\n",
       "    }\n",
       "\n",
       "    .dataframe tbody tr th {\n",
       "        vertical-align: top;\n",
       "    }\n",
       "\n",
       "    .dataframe thead th {\n",
       "        text-align: right;\n",
       "    }\n",
       "</style>\n",
       "<table border=\"1\" class=\"dataframe\">\n",
       "  <thead>\n",
       "    <tr style=\"text-align: right;\">\n",
       "      <th></th>\n",
       "      <th>Size(L)</th>\n",
       "      <th>OG</th>\n",
       "      <th>FG</th>\n",
       "      <th>ABV</th>\n",
       "      <th>IBU</th>\n",
       "      <th>Color</th>\n",
       "      <th>BoilSize</th>\n",
       "      <th>BoilTime</th>\n",
       "      <th>Efficiency</th>\n",
       "      <th>BoilGravityMod</th>\n",
       "    </tr>\n",
       "    <tr>\n",
       "      <th>Id</th>\n",
       "      <th></th>\n",
       "      <th></th>\n",
       "      <th></th>\n",
       "      <th></th>\n",
       "      <th></th>\n",
       "      <th></th>\n",
       "      <th></th>\n",
       "      <th></th>\n",
       "      <th></th>\n",
       "      <th></th>\n",
       "    </tr>\n",
       "  </thead>\n",
       "  <tbody>\n",
       "    <tr>\n",
       "      <th>0</th>\n",
       "      <td>22.71</td>\n",
       "      <td>1.071</td>\n",
       "      <td>1.021</td>\n",
       "      <td>6.51</td>\n",
       "      <td>81.14</td>\n",
       "      <td>6.43</td>\n",
       "      <td>28.39</td>\n",
       "      <td>90</td>\n",
       "      <td>78.0</td>\n",
       "      <td>1.057</td>\n",
       "    </tr>\n",
       "    <tr>\n",
       "      <th>1</th>\n",
       "      <td>7.57</td>\n",
       "      <td>1.062</td>\n",
       "      <td>1.016</td>\n",
       "      <td>6.14</td>\n",
       "      <td>138.44</td>\n",
       "      <td>15.28</td>\n",
       "      <td>7.57</td>\n",
       "      <td>60</td>\n",
       "      <td>35.0</td>\n",
       "      <td>1.062</td>\n",
       "    </tr>\n",
       "    <tr>\n",
       "      <th>2</th>\n",
       "      <td>12.00</td>\n",
       "      <td>1.051</td>\n",
       "      <td>1.012</td>\n",
       "      <td>5.17</td>\n",
       "      <td>27.57</td>\n",
       "      <td>14.54</td>\n",
       "      <td>14.00</td>\n",
       "      <td>60</td>\n",
       "      <td>65.0</td>\n",
       "      <td>1.041</td>\n",
       "    </tr>\n",
       "    <tr>\n",
       "      <th>3</th>\n",
       "      <td>15.00</td>\n",
       "      <td>1.051</td>\n",
       "      <td>1.013</td>\n",
       "      <td>5.01</td>\n",
       "      <td>38.53</td>\n",
       "      <td>26.73</td>\n",
       "      <td>19.00</td>\n",
       "      <td>90</td>\n",
       "      <td>65.0</td>\n",
       "      <td>1.040</td>\n",
       "    </tr>\n",
       "    <tr>\n",
       "      <th>4</th>\n",
       "      <td>21.77</td>\n",
       "      <td>1.061</td>\n",
       "      <td>1.013</td>\n",
       "      <td>6.25</td>\n",
       "      <td>43.20</td>\n",
       "      <td>4.08</td>\n",
       "      <td>23.66</td>\n",
       "      <td>15</td>\n",
       "      <td>35.0</td>\n",
       "      <td>1.045</td>\n",
       "    </tr>\n",
       "  </tbody>\n",
       "</table>\n",
       "</div>"
      ],
      "text/plain": [
       "    Size(L)     OG     FG   ABV     IBU  Color  BoilSize  BoilTime  \\\n",
       "Id                                                                   \n",
       "0     22.71  1.071  1.021  6.51   81.14   6.43     28.39        90   \n",
       "1      7.57  1.062  1.016  6.14  138.44  15.28      7.57        60   \n",
       "2     12.00  1.051  1.012  5.17   27.57  14.54     14.00        60   \n",
       "3     15.00  1.051  1.013  5.01   38.53  26.73     19.00        90   \n",
       "4     21.77  1.061  1.013  6.25   43.20   4.08     23.66        15   \n",
       "\n",
       "    Efficiency  BoilGravityMod  \n",
       "Id                              \n",
       "0         78.0           1.057  \n",
       "1         35.0           1.062  \n",
       "2         65.0           1.041  \n",
       "3         65.0           1.040  \n",
       "4         35.0           1.045  "
      ]
     },
     "execution_count": 141,
     "metadata": {},
     "output_type": "execute_result"
    }
   ],
   "source": [
    "beer_train4.head()"
   ]
  },
  {
   "cell_type": "markdown",
   "metadata": {},
   "source": [
    " __Normalization__"
   ]
  },
  {
   "cell_type": "code",
   "execution_count": 150,
   "metadata": {},
   "outputs": [],
   "source": [
    "scaler = StandardScaler(with_mean=0, with_std=1)\n",
    "scaler.fit(beer_train4)\n",
    "X_train_4 = scaler.transform(beer_train4)\n",
    "X_test_4 = scaler.transform(beer_test4)\n",
    "\n",
    "\n"
   ]
  },
  {
   "cell_type": "markdown",
   "metadata": {},
   "source": [
    " __Decission Tree__"
   ]
  },
  {
   "cell_type": "code",
   "execution_count": 153,
   "metadata": {},
   "outputs": [
    {
     "data": {
      "text/plain": [
       "array(['American Stout', 'American IPA', 'Irish Red Ale', ...,\n",
       "       'American Amber Ale', 'Imperial IPA', 'American IPA'], dtype=object)"
      ]
     },
     "execution_count": 153,
     "metadata": {},
     "output_type": "execute_result"
    }
   ],
   "source": [
    "dtree_class = DecisionTreeClassifier()\n",
    "dtree_class.fit( X_train_4, beer_target4)\n",
    "\n",
    "y_pred = dtree_class.predict(X_test_4)\n",
    "\n",
    "y_pred ="
   ]
  },
  {
   "cell_type": "code",
   "execution_count": 157,
   "metadata": {},
   "outputs": [],
   "source": [
    "\n",
    "y_pred = pd.DataFrame(data = y_pred, \n",
    "                      index = beer_test4.index,\n",
    "                      columns = ['Style'])\n",
    "\n",
    "y_pred.to_csv(\"DecisionTree_v.1.csv\")"
   ]
  },
  {
   "cell_type": "markdown",
   "metadata": {},
   "source": [
    " __Random Forest__"
   ]
  },
  {
   "cell_type": "code",
   "execution_count": 159,
   "metadata": {},
   "outputs": [],
   "source": [
    "rfc = RandomForestClassifier(n_estimators=1000, random_state=101, n_jobs=-1)\n",
    "rfc.fit(X_train_4, beer_target4)\n",
    "y_pred_rfc = rfc.predict(X_test_4)\n",
    "\n"
   ]
  },
  {
   "cell_type": "code",
   "execution_count": 160,
   "metadata": {},
   "outputs": [],
   "source": [
    "y_pred_rfc = pd.DataFrame(data = y_pred_rfc, \n",
    "                      index = beer_test4.index,\n",
    "                      columns = ['Style'])\n",
    "\n",
    "y_pred.to_csv(\"Submission_RandomForest_v.1.csv\")\n",
    "\n",
    "include "
   ]
  },
  {
   "cell_type": "code",
   "execution_count": null,
   "metadata": {},
   "outputs": [],
   "source": []
  },
  {
   "cell_type": "code",
   "execution_count": null,
   "metadata": {},
   "outputs": [],
   "source": []
  }
 ],
 "metadata": {
  "kernelspec": {
   "display_name": "Python 3",
   "language": "python",
   "name": "python3"
  },
  "language_info": {
   "codemirror_mode": {
    "name": "ipython",
    "version": 3
   },
   "file_extension": ".py",
   "mimetype": "text/x-python",
   "name": "python",
   "nbconvert_exporter": "python",
   "pygments_lexer": "ipython3",
   "version": "3.6.9"
  }
 },
 "nbformat": 4,
 "nbformat_minor": 2
}
